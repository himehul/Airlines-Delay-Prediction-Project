{
 "cells": [
  {
   "cell_type": "code",
   "execution_count": 1,
   "id": "6adf5536",
   "metadata": {},
   "outputs": [],
   "source": [
    "import pandas as pd\n",
    "import numpy as np"
   ]
  },
  {
   "cell_type": "code",
   "execution_count": 2,
   "id": "d357ebcf",
   "metadata": {},
   "outputs": [],
   "source": [
    "import matplotlib.pyplot as plt\n",
    "import seaborn as sns\n",
    "%matplotlib inline"
   ]
  },
  {
   "cell_type": "code",
   "execution_count": 3,
   "id": "c69f82ee",
   "metadata": {},
   "outputs": [],
   "source": [
    "\n",
    "df = pd.read_excel('airlines_delay.xlsx',sheet_name='data')\n",
    "\n"
   ]
  },
  {
   "cell_type": "code",
   "execution_count": 4,
   "id": "b9f25b93",
   "metadata": {},
   "outputs": [
    {
     "data": {
      "text/html": [
       "<div>\n",
       "<style scoped>\n",
       "    .dataframe tbody tr th:only-of-type {\n",
       "        vertical-align: middle;\n",
       "    }\n",
       "\n",
       "    .dataframe tbody tr th {\n",
       "        vertical-align: top;\n",
       "    }\n",
       "\n",
       "    .dataframe thead th {\n",
       "        text-align: right;\n",
       "    }\n",
       "</style>\n",
       "<table border=\"1\" class=\"dataframe\">\n",
       "  <thead>\n",
       "    <tr style=\"text-align: right;\">\n",
       "      <th></th>\n",
       "      <th>Flight</th>\n",
       "      <th>Time</th>\n",
       "      <th>Length</th>\n",
       "      <th>Airline</th>\n",
       "      <th>AirportFrom</th>\n",
       "      <th>AirportTo</th>\n",
       "      <th>DayOfWeek</th>\n",
       "      <th>Class</th>\n",
       "    </tr>\n",
       "  </thead>\n",
       "  <tbody>\n",
       "    <tr>\n",
       "      <th>0</th>\n",
       "      <td>2313</td>\n",
       "      <td>1296</td>\n",
       "      <td>141</td>\n",
       "      <td>DL</td>\n",
       "      <td>ATL</td>\n",
       "      <td>HOU</td>\n",
       "      <td>1</td>\n",
       "      <td>0</td>\n",
       "    </tr>\n",
       "    <tr>\n",
       "      <th>1</th>\n",
       "      <td>6948</td>\n",
       "      <td>360</td>\n",
       "      <td>146</td>\n",
       "      <td>OO</td>\n",
       "      <td>COS</td>\n",
       "      <td>ORD</td>\n",
       "      <td>4</td>\n",
       "      <td>0</td>\n",
       "    </tr>\n",
       "    <tr>\n",
       "      <th>2</th>\n",
       "      <td>1247</td>\n",
       "      <td>1170</td>\n",
       "      <td>143</td>\n",
       "      <td>B6</td>\n",
       "      <td>BOS</td>\n",
       "      <td>CLT</td>\n",
       "      <td>3</td>\n",
       "      <td>0</td>\n",
       "    </tr>\n",
       "    <tr>\n",
       "      <th>3</th>\n",
       "      <td>31</td>\n",
       "      <td>1410</td>\n",
       "      <td>344</td>\n",
       "      <td>US</td>\n",
       "      <td>OGG</td>\n",
       "      <td>PHX</td>\n",
       "      <td>6</td>\n",
       "      <td>0</td>\n",
       "    </tr>\n",
       "    <tr>\n",
       "      <th>4</th>\n",
       "      <td>563</td>\n",
       "      <td>692</td>\n",
       "      <td>98</td>\n",
       "      <td>FL</td>\n",
       "      <td>BMI</td>\n",
       "      <td>ATL</td>\n",
       "      <td>4</td>\n",
       "      <td>0</td>\n",
       "    </tr>\n",
       "    <tr>\n",
       "      <th>...</th>\n",
       "      <td>...</td>\n",
       "      <td>...</td>\n",
       "      <td>...</td>\n",
       "      <td>...</td>\n",
       "      <td>...</td>\n",
       "      <td>...</td>\n",
       "      <td>...</td>\n",
       "      <td>...</td>\n",
       "    </tr>\n",
       "    <tr>\n",
       "      <th>539377</th>\n",
       "      <td>6973</td>\n",
       "      <td>530</td>\n",
       "      <td>72</td>\n",
       "      <td>OO</td>\n",
       "      <td>GEG</td>\n",
       "      <td>SEA</td>\n",
       "      <td>5</td>\n",
       "      <td>1</td>\n",
       "    </tr>\n",
       "    <tr>\n",
       "      <th>539378</th>\n",
       "      <td>1264</td>\n",
       "      <td>560</td>\n",
       "      <td>115</td>\n",
       "      <td>WN</td>\n",
       "      <td>LAS</td>\n",
       "      <td>DEN</td>\n",
       "      <td>4</td>\n",
       "      <td>1</td>\n",
       "    </tr>\n",
       "    <tr>\n",
       "      <th>539379</th>\n",
       "      <td>5209</td>\n",
       "      <td>827</td>\n",
       "      <td>74</td>\n",
       "      <td>EV</td>\n",
       "      <td>CAE</td>\n",
       "      <td>ATL</td>\n",
       "      <td>2</td>\n",
       "      <td>1</td>\n",
       "    </tr>\n",
       "    <tr>\n",
       "      <th>539380</th>\n",
       "      <td>607</td>\n",
       "      <td>715</td>\n",
       "      <td>65</td>\n",
       "      <td>WN</td>\n",
       "      <td>BWI</td>\n",
       "      <td>BUF</td>\n",
       "      <td>4</td>\n",
       "      <td>1</td>\n",
       "    </tr>\n",
       "    <tr>\n",
       "      <th>539381</th>\n",
       "      <td>6377</td>\n",
       "      <td>770</td>\n",
       "      <td>55</td>\n",
       "      <td>OO</td>\n",
       "      <td>CPR</td>\n",
       "      <td>DEN</td>\n",
       "      <td>2</td>\n",
       "      <td>1</td>\n",
       "    </tr>\n",
       "  </tbody>\n",
       "</table>\n",
       "<p>539382 rows × 8 columns</p>\n",
       "</div>"
      ],
      "text/plain": [
       "        Flight  Time  Length Airline AirportFrom AirportTo  DayOfWeek  Class\n",
       "0         2313  1296     141      DL         ATL       HOU          1      0\n",
       "1         6948   360     146      OO         COS       ORD          4      0\n",
       "2         1247  1170     143      B6         BOS       CLT          3      0\n",
       "3           31  1410     344      US         OGG       PHX          6      0\n",
       "4          563   692      98      FL         BMI       ATL          4      0\n",
       "...        ...   ...     ...     ...         ...       ...        ...    ...\n",
       "539377    6973   530      72      OO         GEG       SEA          5      1\n",
       "539378    1264   560     115      WN         LAS       DEN          4      1\n",
       "539379    5209   827      74      EV         CAE       ATL          2      1\n",
       "539380     607   715      65      WN         BWI       BUF          4      1\n",
       "539381    6377   770      55      OO         CPR       DEN          2      1\n",
       "\n",
       "[539382 rows x 8 columns]"
      ]
     },
     "execution_count": 4,
     "metadata": {},
     "output_type": "execute_result"
    }
   ],
   "source": [
    "df"
   ]
  },
  {
   "cell_type": "code",
   "execution_count": 5,
   "id": "d818db8b",
   "metadata": {},
   "outputs": [
    {
     "data": {
      "text/plain": [
       "0    299118\n",
       "1    240264\n",
       "Name: Class, dtype: int64"
      ]
     },
     "execution_count": 5,
     "metadata": {},
     "output_type": "execute_result"
    }
   ],
   "source": [
    "df['Class'].value_counts()"
   ]
  },
  {
   "cell_type": "code",
   "execution_count": 218,
   "id": "3428cd98",
   "metadata": {},
   "outputs": [
    {
     "name": "stdout",
     "output_type": "stream",
     "text": [
      "<class 'pandas.core.frame.DataFrame'>\n",
      "RangeIndex: 539382 entries, 0 to 539381\n",
      "Data columns (total 8 columns):\n",
      " #   Column       Non-Null Count   Dtype \n",
      "---  ------       --------------   ----- \n",
      " 0   Flight       539382 non-null  int64 \n",
      " 1   Time         539382 non-null  int64 \n",
      " 2   Length       539382 non-null  int64 \n",
      " 3   Airline      539382 non-null  object\n",
      " 4   AirportFrom  539382 non-null  object\n",
      " 5   AirportTo    539382 non-null  object\n",
      " 6   DayOfWeek    539382 non-null  int64 \n",
      " 7   Class        539382 non-null  int64 \n",
      "dtypes: int64(5), object(3)\n",
      "memory usage: 32.9+ MB\n"
     ]
    }
   ],
   "source": [
    "df.info()"
   ]
  },
  {
   "cell_type": "code",
   "execution_count": 219,
   "id": "eb00adaf",
   "metadata": {},
   "outputs": [
    {
     "data": {
      "text/html": [
       "<div>\n",
       "<style scoped>\n",
       "    .dataframe tbody tr th:only-of-type {\n",
       "        vertical-align: middle;\n",
       "    }\n",
       "\n",
       "    .dataframe tbody tr th {\n",
       "        vertical-align: top;\n",
       "    }\n",
       "\n",
       "    .dataframe thead th {\n",
       "        text-align: right;\n",
       "    }\n",
       "</style>\n",
       "<table border=\"1\" class=\"dataframe\">\n",
       "  <thead>\n",
       "    <tr style=\"text-align: right;\">\n",
       "      <th></th>\n",
       "      <th>Flight</th>\n",
       "      <th>Time</th>\n",
       "      <th>Length</th>\n",
       "      <th>DayOfWeek</th>\n",
       "      <th>Class</th>\n",
       "    </tr>\n",
       "  </thead>\n",
       "  <tbody>\n",
       "    <tr>\n",
       "      <th>Flight</th>\n",
       "      <td>1.000000</td>\n",
       "      <td>-0.005750</td>\n",
       "      <td>-0.341481</td>\n",
       "      <td>0.000416</td>\n",
       "      <td>-0.046174</td>\n",
       "    </tr>\n",
       "    <tr>\n",
       "      <th>Time</th>\n",
       "      <td>-0.005750</td>\n",
       "      <td>1.000000</td>\n",
       "      <td>-0.020610</td>\n",
       "      <td>0.001272</td>\n",
       "      <td>0.150457</td>\n",
       "    </tr>\n",
       "    <tr>\n",
       "      <th>Length</th>\n",
       "      <td>-0.341481</td>\n",
       "      <td>-0.020610</td>\n",
       "      <td>1.000000</td>\n",
       "      <td>0.013398</td>\n",
       "      <td>0.040488</td>\n",
       "    </tr>\n",
       "    <tr>\n",
       "      <th>DayOfWeek</th>\n",
       "      <td>0.000416</td>\n",
       "      <td>0.001272</td>\n",
       "      <td>0.013398</td>\n",
       "      <td>1.000000</td>\n",
       "      <td>-0.026198</td>\n",
       "    </tr>\n",
       "    <tr>\n",
       "      <th>Class</th>\n",
       "      <td>-0.046174</td>\n",
       "      <td>0.150457</td>\n",
       "      <td>0.040488</td>\n",
       "      <td>-0.026198</td>\n",
       "      <td>1.000000</td>\n",
       "    </tr>\n",
       "  </tbody>\n",
       "</table>\n",
       "</div>"
      ],
      "text/plain": [
       "             Flight      Time    Length  DayOfWeek     Class\n",
       "Flight     1.000000 -0.005750 -0.341481   0.000416 -0.046174\n",
       "Time      -0.005750  1.000000 -0.020610   0.001272  0.150457\n",
       "Length    -0.341481 -0.020610  1.000000   0.013398  0.040488\n",
       "DayOfWeek  0.000416  0.001272  0.013398   1.000000 -0.026198\n",
       "Class     -0.046174  0.150457  0.040488  -0.026198  1.000000"
      ]
     },
     "execution_count": 219,
     "metadata": {},
     "output_type": "execute_result"
    }
   ],
   "source": [
    "df.corr()"
   ]
  },
  {
   "cell_type": "code",
   "execution_count": 220,
   "id": "c7858b17",
   "metadata": {
    "scrolled": true
   },
   "outputs": [
    {
     "data": {
      "text/plain": [
       "<AxesSubplot:xlabel='Class', ylabel='Time'>"
      ]
     },
     "execution_count": 220,
     "metadata": {},
     "output_type": "execute_result"
    },
    {
     "data": {
      "image/png": "[encoded data removed]",
      "text/plain": [
       "<Figure size 432x288 with 1 Axes>"
      ]
     },
     "metadata": {
      "needs_background": "light"
     },
     "output_type": "display_data"
    }
   ],
   "source": [
    "sns.boxplot(data=df,x='Class',y='Time')"
   ]
  },
  {
   "cell_type": "code",
   "execution_count": 221,
   "id": "16bf36ab",
   "metadata": {
    "scrolled": true
   },
   "outputs": [
    {
     "data": {
      "text/plain": [
       "<AxesSubplot:xlabel='Time', ylabel='Count'>"
      ]
     },
     "execution_count": 221,
     "metadata": {},
     "output_type": "execute_result"
    },
    {
     "data": {
      "image/png": "[encoded data removed]",
      "text/plain": [
       "<Figure size 432x288 with 1 Axes>"
      ]
     },
     "metadata": {
      "needs_background": "light"
     },
     "output_type": "display_data"
    }
   ],
   "source": [
    "sns.histplot(data=df,x='Time',bins=100,hue='Class')"
   ]
  },
  {
   "cell_type": "code",
   "execution_count": 222,
   "id": "671e004e",
   "metadata": {},
   "outputs": [],
   "source": [
    "#sns.pairplot(df,hue='Class')"
   ]
  },
  {
   "cell_type": "code",
   "execution_count": 223,
   "id": "dd4f8160",
   "metadata": {},
   "outputs": [
    {
     "name": "stdout",
     "output_type": "stream",
     "text": [
      "<class 'pandas.core.frame.DataFrame'>\n",
      "RangeIndex: 539382 entries, 0 to 539381\n",
      "Data columns (total 8 columns):\n",
      " #   Column       Non-Null Count   Dtype \n",
      "---  ------       --------------   ----- \n",
      " 0   Flight       539382 non-null  int64 \n",
      " 1   Time         539382 non-null  int64 \n",
      " 2   Length       539382 non-null  int64 \n",
      " 3   Airline      539382 non-null  object\n",
      " 4   AirportFrom  539382 non-null  object\n",
      " 5   AirportTo    539382 non-null  object\n",
      " 6   DayOfWeek    539382 non-null  int64 \n",
      " 7   Class        539382 non-null  int64 \n",
      "dtypes: int64(5), object(3)\n",
      "memory usage: 32.9+ MB\n"
     ]
    }
   ],
   "source": [
    "df.info()"
   ]
  },
  {
   "cell_type": "code",
   "execution_count": 224,
   "id": "36c48160",
   "metadata": {},
   "outputs": [
    {
     "data": {
      "text/plain": [
       "WN    94097\n",
       "DL    60940\n",
       "OO    50254\n",
       "AA    45656\n",
       "MQ    36604\n",
       "US    34500\n",
       "XE    31126\n",
       "EV    27983\n",
       "UA    27619\n",
       "CO    21118\n",
       "FL    20827\n",
       "9E    20686\n",
       "B6    18112\n",
       "YV    13725\n",
       "OH    12630\n",
       "AS    11471\n",
       "F9     6456\n",
       "HA     5578\n",
       "Name: Airline, dtype: int64"
      ]
     },
     "execution_count": 224,
     "metadata": {},
     "output_type": "execute_result"
    }
   ],
   "source": [
    "df['Airline'].value_counts()"
   ]
  },
  {
   "cell_type": "code",
   "execution_count": 225,
   "id": "acdce09b",
   "metadata": {},
   "outputs": [
    {
     "data": {
      "text/plain": [
       "ATL    34449\n",
       "ORD    24822\n",
       "DFW    22153\n",
       "DEN    19843\n",
       "LAX    16657\n",
       "       ...  \n",
       "MMH       16\n",
       "SJT       15\n",
       "GUM       10\n",
       "ADK        9\n",
       "ABR        2\n",
       "Name: AirportFrom, Length: 293, dtype: int64"
      ]
     },
     "execution_count": 225,
     "metadata": {},
     "output_type": "execute_result"
    }
   ],
   "source": [
    "df['AirportFrom'].value_counts()"
   ]
  },
  {
   "cell_type": "code",
   "execution_count": 226,
   "id": "e5d4b833",
   "metadata": {},
   "outputs": [],
   "source": [
    "mean_from_encoding = df.groupby('AirportFrom')['Class'].mean()"
   ]
  },
  {
   "cell_type": "code",
   "execution_count": 227,
   "id": "d781a4a0",
   "metadata": {},
   "outputs": [],
   "source": [
    "df['AirportFrom_Encoded'] = df['AirportFrom'].map(mean_from_encoding)"
   ]
  },
  {
   "cell_type": "code",
   "execution_count": 228,
   "id": "e6f7218e",
   "metadata": {},
   "outputs": [],
   "source": [
    "mean_to_encoding = df.groupby('AirportTo')['Class'].mean()"
   ]
  },
  {
   "cell_type": "code",
   "execution_count": 229,
   "id": "eeeaecc2",
   "metadata": {},
   "outputs": [],
   "source": [
    "df['AirportTo_Encoded'] = df['AirportTo'].map(mean_to_encoding)"
   ]
  },
  {
   "cell_type": "code",
   "execution_count": 230,
   "id": "98926645",
   "metadata": {},
   "outputs": [],
   "source": [
    "from sklearn.preprocessing import LabelEncoder"
   ]
  },
  {
   "cell_type": "code",
   "execution_count": 231,
   "id": "0bf467cf",
   "metadata": {},
   "outputs": [],
   "source": [
    "airline_dummies=pd.get_dummies(df['Airline'],drop_first=True)"
   ]
  },
  {
   "cell_type": "code",
   "execution_count": 232,
   "id": "d0c34866",
   "metadata": {},
   "outputs": [],
   "source": [
    "df=pd.concat([df,airline_dummies],axis=1)"
   ]
  },
  {
   "cell_type": "code",
   "execution_count": 233,
   "id": "90c5f6c0",
   "metadata": {},
   "outputs": [],
   "source": [
    "df.drop(['Airline','AirportFrom','AirportTo'],axis=1,inplace=True)"
   ]
  },
  {
   "cell_type": "code",
   "execution_count": 234,
   "id": "5b7e295d",
   "metadata": {},
   "outputs": [
    {
     "name": "stdout",
     "output_type": "stream",
     "text": [
      "<class 'pandas.core.frame.DataFrame'>\n",
      "RangeIndex: 539382 entries, 0 to 539381\n",
      "Data columns (total 24 columns):\n",
      " #   Column               Non-Null Count   Dtype  \n",
      "---  ------               --------------   -----  \n",
      " 0   Flight               539382 non-null  int64  \n",
      " 1   Time                 539382 non-null  int64  \n",
      " 2   Length               539382 non-null  int64  \n",
      " 3   DayOfWeek            539382 non-null  int64  \n",
      " 4   Class                539382 non-null  int64  \n",
      " 5   AirportFrom_Encoded  539382 non-null  float64\n",
      " 6   AirportTo_Encoded    539382 non-null  float64\n",
      " 7   AA                   539382 non-null  uint8  \n",
      " 8   AS                   539382 non-null  uint8  \n",
      " 9   B6                   539382 non-null  uint8  \n",
      " 10  CO                   539382 non-null  uint8  \n",
      " 11  DL                   539382 non-null  uint8  \n",
      " 12  EV                   539382 non-null  uint8  \n",
      " 13  F9                   539382 non-null  uint8  \n",
      " 14  FL                   539382 non-null  uint8  \n",
      " 15  HA                   539382 non-null  uint8  \n",
      " 16  MQ                   539382 non-null  uint8  \n",
      " 17  OH                   539382 non-null  uint8  \n",
      " 18  OO                   539382 non-null  uint8  \n",
      " 19  UA                   539382 non-null  uint8  \n",
      " 20  US                   539382 non-null  uint8  \n",
      " 21  WN                   539382 non-null  uint8  \n",
      " 22  XE                   539382 non-null  uint8  \n",
      " 23  YV                   539382 non-null  uint8  \n",
      "dtypes: float64(2), int64(5), uint8(17)\n",
      "memory usage: 37.6 MB\n"
     ]
    }
   ],
   "source": [
    "df.info()"
   ]
  },
  {
   "cell_type": "code",
   "execution_count": 235,
   "id": "6b70f482",
   "metadata": {},
   "outputs": [
    {
     "data": {
      "text/plain": [
       "Flight                -0.046174\n",
       "Time                   0.150457\n",
       "Length                 0.040488\n",
       "DayOfWeek             -0.026198\n",
       "Class                  1.000000\n",
       "AirportFrom_Encoded    0.179937\n",
       "AirportTo_Encoded      0.167566\n",
       "AA                    -0.034858\n",
       "AS                    -0.031483\n",
       "B6                     0.008099\n",
       "CO                     0.049045\n",
       "DL                     0.003614\n",
       "EV                    -0.020348\n",
       "F9                     0.000796\n",
       "FL                    -0.058125\n",
       "HA                    -0.025762\n",
       "MQ                    -0.052844\n",
       "OH                    -0.052393\n",
       "OO                     0.004809\n",
       "UA                    -0.056807\n",
       "US                    -0.057577\n",
       "WN                     0.233369\n",
       "XE                    -0.033111\n",
       "YV                    -0.065845\n",
       "Name: Class, dtype: float64"
      ]
     },
     "execution_count": 235,
     "metadata": {},
     "output_type": "execute_result"
    }
   ],
   "source": [
    "df.corr()['Class']"
   ]
  },
  {
   "cell_type": "code",
   "execution_count": 236,
   "id": "e8546910",
   "metadata": {},
   "outputs": [],
   "source": [
    "#print(df['AirportTo'].value_counts().to_string(max_rows=None))\n"
   ]
  },
  {
   "cell_type": "code",
   "execution_count": 237,
   "id": "958fa059",
   "metadata": {},
   "outputs": [],
   "source": [
    "from sklearn.model_selection import train_test_split"
   ]
  },
  {
   "cell_type": "code",
   "execution_count": 238,
   "id": "1e6d4bb2",
   "metadata": {},
   "outputs": [],
   "source": [
    "from sklearn.ensemble import RandomForestClassifier"
   ]
  },
  {
   "cell_type": "code",
   "execution_count": 239,
   "id": "0a5ad334",
   "metadata": {},
   "outputs": [],
   "source": [
    "rfc=RandomForestClassifier(n_estimators=100)"
   ]
  },
  {
   "cell_type": "code",
   "execution_count": 240,
   "id": "4a0e99db",
   "metadata": {},
   "outputs": [],
   "source": [
    "#X=df.drop(['Class','DayOfWeek','Flight','Length','AA','AS','B6','DL','EV','F9','FL','HA','MQ','OH','OO','UA','US','XE','YV'],axis=1)"
   ]
  },
  {
   "cell_type": "code",
   "execution_count": 241,
   "id": "2d1fb921",
   "metadata": {},
   "outputs": [],
   "source": [
    "X=df[['Time','AirportFrom_Encoded','AirportTo_Encoded','WN']]"
   ]
  },
  {
   "cell_type": "code",
   "execution_count": 242,
   "id": "cc4d16b0",
   "metadata": {},
   "outputs": [],
   "source": [
    "y=df['Class']"
   ]
  },
  {
   "cell_type": "code",
   "execution_count": 243,
   "id": "0ddb3cdb",
   "metadata": {},
   "outputs": [],
   "source": [
    "X_train, X_test, y_train, y_test = train_test_split(X, y, test_size=0.3, random_state=101)"
   ]
  },
  {
   "cell_type": "code",
   "execution_count": 244,
   "id": "1cc9c8eb",
   "metadata": {},
   "outputs": [
    {
     "data": {
      "text/plain": [
       "RandomForestClassifier()"
      ]
     },
     "execution_count": 244,
     "metadata": {},
     "output_type": "execute_result"
    }
   ],
   "source": [
    "rfc.fit(X_train,y_train)"
   ]
  },
  {
   "cell_type": "code",
   "execution_count": 245,
   "id": "110001dc",
   "metadata": {},
   "outputs": [],
   "source": [
    "rfc_pred=rfc.predict(X_test)"
   ]
  },
  {
   "cell_type": "code",
   "execution_count": 246,
   "id": "de9937ad",
   "metadata": {},
   "outputs": [],
   "source": [
    "from sklearn.metrics import classification_report,confusion_matrix,roc_auc_score"
   ]
  },
  {
   "cell_type": "code",
   "execution_count": 247,
   "id": "0b7179a9",
   "metadata": {},
   "outputs": [
    {
     "name": "stdout",
     "output_type": "stream",
     "text": [
      "[[66105 23319]\n",
      " [32488 39903]]\n",
      "              precision    recall  f1-score   support\n",
      "\n",
      "           0       0.67      0.74      0.70     89424\n",
      "           1       0.63      0.55      0.59     72391\n",
      "\n",
      "    accuracy                           0.66    161815\n",
      "   macro avg       0.65      0.65      0.65    161815\n",
      "weighted avg       0.65      0.66      0.65    161815\n",
      "\n",
      "0.6452230044688655\n"
     ]
    }
   ],
   "source": [
    "print(confusion_matrix(y_test,rfc_pred))\n",
    "print(classification_report(y_test,rfc_pred))\n",
    "print(roc_auc_score(y_test,rfc_pred))"
   ]
  },
  {
   "cell_type": "code",
   "execution_count": null,
   "id": "5f6768a2",
   "metadata": {},
   "outputs": [],
   "source": []
  }
 ],
 "metadata": {
  "kernelspec": {
   "display_name": "Python 3 (ipykernel)",
   "language": "python",
   "name": "python3"
  },
  "language_info": {
   "codemirror_mode": {
    "name": "ipython",
    "version": 3
   },
   "file_extension": ".py",
   "mimetype": "text/x-python",
   "name": "python",
   "nbconvert_exporter": "python",
   "pygments_lexer": "ipython3",
   "version": "3.9.12"
  }
 },
 "nbformat": 4,
 "nbformat_minor": 5
}
